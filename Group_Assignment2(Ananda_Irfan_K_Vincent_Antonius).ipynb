{
 "cells": [
  {
   "cell_type": "code",
   "execution_count": 13,
   "source": [
    "#Group Assignment2 = Ananda Irfan K & Vincent Antonius\r\n",
    "a = int(input(\"How many number do you want to input?\"))\r\n",
    "b = []\r\n",
    "\r\n",
    "for i in range(0,a):\r\n",
    "    temp = int(input(\"Input Number {}= \".format(i+1)))\r\n",
    "    b.append(temp)\r\n",
    "\r\n",
    "print(b)\r\n",
    "b.sort()\r\n",
    "print(\"Sorted: {}\".format(b))\r\n",
    "\r\n",
    "for i in range(0,a):\r\n",
    "    for j in range(i,a):\r\n",
    "        if b[i] < b[j]:\r\n",
    "            print(\"2nd Largest number is = {}\".format(b[j]))\r\n",
    "            break\r\n",
    "    break\r\n",
    "    "
   ],
   "outputs": [
    {
     "output_type": "stream",
     "name": "stdout",
     "text": [
      "[66, 5, 4, 23, 5, 7, 5, 3, 12, 3]\n",
      "Sorted: [3, 3, 4, 5, 5, 5, 7, 12, 23, 66]\n",
      "2nd Largest number is= 4\n"
     ]
    }
   ],
   "metadata": {}
  }
 ],
 "metadata": {
  "orig_nbformat": 4,
  "language_info": {
   "name": "python",
   "version": "3.9.4",
   "mimetype": "text/x-python",
   "codemirror_mode": {
    "name": "ipython",
    "version": 3
   },
   "pygments_lexer": "ipython3",
   "nbconvert_exporter": "python",
   "file_extension": ".py"
  },
  "kernelspec": {
   "name": "python3",
   "display_name": "Python 3.9.4 64-bit"
  },
  "interpreter": {
   "hash": "4ce0e62306dd6a5716965d4519ada776f947e6dfc145b604b11307c10277ef29"
  }
 },
 "nbformat": 4,
 "nbformat_minor": 2
}