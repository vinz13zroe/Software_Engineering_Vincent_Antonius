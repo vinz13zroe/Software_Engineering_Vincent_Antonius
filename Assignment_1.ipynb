{
  "nbformat": 4,
  "nbformat_minor": 0,
  "metadata": {
    "colab": {
      "name": "Assignment 1.ipynb",
      "provenance": []
    },
    "kernelspec": {
      "name": "python3",
      "display_name": "Python 3"
    },
    "language_info": {
      "name": "python"
    }
  },
  "cells": [
    {
      "cell_type": "code",
      "metadata": {
        "colab": {
          "base_uri": "https://localhost:8080/"
        },
        "id": "WL3TkRLDuwdv",
        "outputId": "d6e632fb-dbe0-4b68-d84c-0be9b27da741"
      },
      "source": [
        "import math;\n",
        "import cmath;\n",
        "\n",
        "a = float(input())\n",
        "\n",
        "print(math.cos(a))\n",
        "print(math.cosh(a))\n",
        "print(math.tan(a))\n",
        "print(math.tanh(a))\n",
        "print(math.log(a))\n",
        "print(math.ceil(a))\n",
        "print(math.floor(a))\n",
        "\n"
      ],
      "execution_count": 19,
      "outputs": [
        {
          "output_type": "stream",
          "name": "stdout",
          "text": [
            "90.8\n",
            "-0.9534898465163502\n",
            "1.358028740385693e+39\n",
            "-0.3161283122878945\n",
            "1.0\n",
            "4.508659285607248\n",
            "91\n",
            "90\n"
          ]
        }
      ]
    }
  ]
}