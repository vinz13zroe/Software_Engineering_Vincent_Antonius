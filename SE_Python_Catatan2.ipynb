{
  "nbformat": 4,
  "nbformat_minor": 0,
  "metadata": {
    "colab": {
      "name": "Catatan 2.ipynb",
      "provenance": [],
      "collapsed_sections": []
    },
    "kernelspec": {
      "name": "python3",
      "display_name": "Python 3"
    },
    "language_info": {
      "name": "python"
    }
  },
  "cells": [
    {
      "cell_type": "code",
      "metadata": {
        "id": "8pVRhOEt2uPo"
      },
      "source": [
        "# List []\n",
        "# Dictionary {}\n",
        "# Tuple ()\n",
        "# Set {}\n",
        "# Looping\n",
        "# Function"
      ],
      "execution_count": null,
      "outputs": []
    },
    {
      "cell_type": "code",
      "metadata": {
        "colab": {
          "base_uri": "https://localhost:8080/"
        },
        "id": "M65Rsrnlek0N",
        "outputId": "eba713cf-972a-47d0-8fd0-0a500c7efdf4"
      },
      "source": [
        "#list\n",
        "contoh_list = [\"Vincent\", 12 , 12.2, ['Darwin', 'Dirwan'], {}, (), True] #Berawal dri Index [0]\n",
        "print(contoh_list[0])\n",
        "print(contoh_list[1])\n",
        "print(contoh_list[-1])"
      ],
      "execution_count": null,
      "outputs": [
        {
          "output_type": "stream",
          "name": "stdout",
          "text": [
            "Vincent\n",
            "12\n",
            "True\n"
          ]
        }
      ]
    },
    {
      "cell_type": "code",
      "metadata": {
        "colab": {
          "base_uri": "https://localhost:8080/"
        },
        "id": "gmGleISufAmQ",
        "outputId": "6a2da5c1-3ad6-49d5-d5b1-89739355e483"
      },
      "source": [
        "#Dictionary\n",
        "contoh_dict = {2:\"Vincent\", \"Dua Belas\":12, False:12.0, 3.0:['Darwin', 'Dirwan'], \"Dict\":{}, 333:(), \"Boolean\":True}\n",
        "print(contoh_dict[2])\n",
        "print(contoh_dict[\"Dua Belas\"])\n",
        "print(contoh_dict[False])"
      ],
      "execution_count": null,
      "outputs": [
        {
          "output_type": "stream",
          "name": "stdout",
          "text": [
            "Vincent\n",
            "12\n",
            "12.0\n"
          ]
        }
      ]
    },
    {
      "cell_type": "code",
      "metadata": {
        "id": "ehWOLqBb2O8k"
      },
      "source": [
        ""
      ],
      "execution_count": null,
      "outputs": []
    },
    {
      "cell_type": "code",
      "metadata": {
        "id": "VwBIrQMLgquQ"
      },
      "source": [
        "#contoh method di list\n",
        "list1 = [3,1,2,4,5,6]"
      ],
      "execution_count": null,
      "outputs": []
    },
    {
      "cell_type": "code",
      "metadata": {
        "colab": {
          "base_uri": "https://localhost:8080/"
        },
        "id": "L7PLhDRruhf8",
        "outputId": "0cfab6b7-a384-40f3-9d87-fb4e8509e6d1"
      },
      "source": [
        "list1.append(\"Vincent\")\n",
        "list1"
      ],
      "execution_count": null,
      "outputs": [
        {
          "output_type": "execute_result",
          "data": {
            "text/plain": [
              "[3, 1, 2, 4, 5, 6, 'Vincent']"
            ]
          },
          "metadata": {},
          "execution_count": 8
        }
      ]
    },
    {
      "cell_type": "code",
      "metadata": {
        "colab": {
          "base_uri": "https://localhost:8080/"
        },
        "id": "yKsDfkb2uwKs",
        "outputId": "5d429e91-e01d-44b6-d24e-65cc420cebe5"
      },
      "source": [
        "list1.insert(4, \"Irfan\")\n",
        "list1"
      ],
      "execution_count": null,
      "outputs": [
        {
          "output_type": "execute_result",
          "data": {
            "text/plain": [
              "[3, 1, 2, 4, 'Irfan', 5, 6, 'Vincent']"
            ]
          },
          "metadata": {},
          "execution_count": 9
        }
      ]
    },
    {
      "cell_type": "code",
      "metadata": {
        "colab": {
          "base_uri": "https://localhost:8080/"
        },
        "id": "ZnnrBDfzu1H2",
        "outputId": "9fbc6123-20f6-41ac-95f9-374c1907bc33"
      },
      "source": [
        "list_angka = [1,7,4,9,8]\n",
        "list_angka.sort()\n",
        "list_angka"
      ],
      "execution_count": null,
      "outputs": [
        {
          "output_type": "execute_result",
          "data": {
            "text/plain": [
              "[1, 4, 7, 8, 9]"
            ]
          },
          "metadata": {},
          "execution_count": 11
        }
      ]
    },
    {
      "cell_type": "code",
      "metadata": {
        "colab": {
          "base_uri": "https://localhost:8080/"
        },
        "id": "jtL5Zal_u740",
        "outputId": "9864e47f-2caa-40bf-b20b-13280e53c796"
      },
      "source": [
        "list_angka.sort(reverse = True) #sortir dri paling besar\n",
        "list_angka"
      ],
      "execution_count": null,
      "outputs": [
        {
          "output_type": "execute_result",
          "data": {
            "text/plain": [
              "[9, 8, 7, 4, 1]"
            ]
          },
          "metadata": {},
          "execution_count": 12
        }
      ]
    },
    {
      "cell_type": "code",
      "metadata": {
        "colab": {
          "base_uri": "https://localhost:8080/"
        },
        "id": "HxS33NukvAfY",
        "outputId": "c87694a5-1eac-4649-e3ca-ff23c2e0868f"
      },
      "source": [
        "list_angka.pop() #hapus diujung data\n",
        "list_angka"
      ],
      "execution_count": null,
      "outputs": [
        {
          "output_type": "execute_result",
          "data": {
            "text/plain": [
              "[9, 8, 7, 4]"
            ]
          },
          "metadata": {},
          "execution_count": 13
        }
      ]
    },
    {
      "cell_type": "code",
      "metadata": {
        "colab": {
          "base_uri": "https://localhost:8080/"
        },
        "id": "hZEyVXBpvOG8",
        "outputId": "a34f2e6d-48c0-450b-886b-2e0210925189"
      },
      "source": [
        "list_angka.remove(7) #hapus yang ada angka 7\n",
        "list_angka"
      ],
      "execution_count": null,
      "outputs": [
        {
          "output_type": "execute_result",
          "data": {
            "text/plain": [
              "[9, 8, 4]"
            ]
          },
          "metadata": {},
          "execution_count": 14
        }
      ]
    },
    {
      "cell_type": "code",
      "metadata": {
        "colab": {
          "base_uri": "https://localhost:8080/"
        },
        "id": "9-cVF2M-vQgE",
        "outputId": "afbd3eeb-f1fd-49bc-af0a-8e4f97f1efb6"
      },
      "source": [
        "list_angka.remove(list_angka[1]) #remove di idx 1\n",
        "list_angka"
      ],
      "execution_count": null,
      "outputs": [
        {
          "output_type": "execute_result",
          "data": {
            "text/plain": [
              "[9, 4]"
            ]
          },
          "metadata": {},
          "execution_count": 15
        }
      ]
    },
    {
      "cell_type": "code",
      "metadata": {
        "colab": {
          "base_uri": "https://localhost:8080/"
        },
        "id": "TG3LugzYvgAR",
        "outputId": "174fd57b-7dcb-4c05-f22e-05846adfc282"
      },
      "source": [
        "#Set\n",
        "list_angka = [9,7,4,1,7]\n",
        "list_angka"
      ],
      "execution_count": null,
      "outputs": [
        {
          "output_type": "execute_result",
          "data": {
            "text/plain": [
              "[9, 7, 4, 1, 7]"
            ]
          },
          "metadata": {},
          "execution_count": 19
        }
      ]
    },
    {
      "cell_type": "code",
      "metadata": {
        "colab": {
          "base_uri": "https://localhost:8080/"
        },
        "id": "P83sX7b_vtkH",
        "outputId": "d591afb1-8852-4ff9-d37a-ece7e3e10278"
      },
      "source": [
        "set_angka = set(list_angka)\n",
        "set_angka"
      ],
      "execution_count": null,
      "outputs": [
        {
          "output_type": "execute_result",
          "data": {
            "text/plain": [
              "{1, 4, 7, 9}"
            ]
          },
          "metadata": {},
          "execution_count": 20
        }
      ]
    },
    {
      "cell_type": "code",
      "metadata": {
        "colab": {
          "base_uri": "https://localhost:8080/"
        },
        "id": "k7mLgYD7vz3K",
        "outputId": "10548f1e-d875-405f-ed21-b34aff685582"
      },
      "source": [
        "list_angka = list(set_angka) #untuk panggil dri set ke list, karna set ga bisa di panggil\n",
        "list_angka"
      ],
      "execution_count": null,
      "outputs": [
        {
          "output_type": "execute_result",
          "data": {
            "text/plain": [
              "[9, 4, 1, 7]"
            ]
          },
          "metadata": {},
          "execution_count": 21
        }
      ]
    },
    {
      "cell_type": "code",
      "metadata": {
        "colab": {
          "base_uri": "https://localhost:8080/"
        },
        "id": "lpCwfPNUwF4W",
        "outputId": "9e827a79-05d8-4f97-9aaa-d96962fd21c4"
      },
      "source": [
        "#Tuple, tidak bisa ditambah atau dikurang, mirip dengan dict/list\n",
        "tuple_angka = (1,3,5,7,9,7)\n",
        "tuple_angka[0]"
      ],
      "execution_count": null,
      "outputs": [
        {
          "output_type": "execute_result",
          "data": {
            "text/plain": [
              "1"
            ]
          },
          "metadata": {},
          "execution_count": 22
        }
      ]
    },
    {
      "cell_type": "code",
      "metadata": {
        "colab": {
          "base_uri": "https://localhost:8080/"
        },
        "id": "MdHqDWewwVMu",
        "outputId": "c0f18e58-c8eb-48ff-b40d-061085587917"
      },
      "source": [
        "#Looping\n",
        "\n",
        "for i in range(10): \n",
        "  print(\"Hai\")"
      ],
      "execution_count": null,
      "outputs": [
        {
          "output_type": "stream",
          "name": "stdout",
          "text": [
            "Hai\n",
            "Hai\n",
            "Hai\n",
            "Hai\n",
            "Hai\n",
            "Hai\n",
            "Hai\n",
            "Hai\n",
            "Hai\n",
            "Hai\n"
          ]
        }
      ]
    },
    {
      "cell_type": "code",
      "metadata": {
        "colab": {
          "base_uri": "https://localhost:8080/"
        },
        "id": "8Yn5Mf-fwncc",
        "outputId": "76d0a110-a93f-4f61-c5b8-b0deb33d7654"
      },
      "source": [
        "for i in range (9):\n",
        "  print(i)"
      ],
      "execution_count": null,
      "outputs": [
        {
          "output_type": "stream",
          "name": "stdout",
          "text": [
            "0\n",
            "1\n",
            "2\n",
            "3\n",
            "4\n",
            "5\n",
            "6\n",
            "7\n",
            "8\n"
          ]
        }
      ]
    },
    {
      "cell_type": "code",
      "metadata": {
        "colab": {
          "base_uri": "https://localhost:8080/"
        },
        "id": "DxSBdmoAwup-",
        "outputId": "3c8d80f2-ea84-4e06-d13f-d0e506b35a87"
      },
      "source": [
        "for i in range(0,20,1): #mirip dengan for C++\n",
        "  print(i)"
      ],
      "execution_count": null,
      "outputs": [
        {
          "output_type": "stream",
          "name": "stdout",
          "text": [
            "0\n",
            "1\n",
            "2\n",
            "3\n",
            "4\n",
            "5\n",
            "6\n",
            "7\n",
            "8\n",
            "9\n",
            "10\n",
            "11\n",
            "12\n",
            "13\n",
            "14\n",
            "15\n",
            "16\n",
            "17\n",
            "18\n",
            "19\n"
          ]
        }
      ]
    },
    {
      "cell_type": "code",
      "metadata": {
        "colab": {
          "base_uri": "https://localhost:8080/"
        },
        "id": "21MAjdh7xB8r",
        "outputId": "f4477daa-9cf8-4b91-d0d4-802f441d6450"
      },
      "source": [
        "#While looping\n",
        "a = 0\n",
        "while a<20:\n",
        "  print(\"a msih lebih kecil dri 20 {}\".format(a))\n",
        "  a += 1"
      ],
      "execution_count": null,
      "outputs": [
        {
          "output_type": "stream",
          "name": "stdout",
          "text": [
            "a msih lebih kecil dri 20 0\n",
            "a msih lebih kecil dri 20 1\n",
            "a msih lebih kecil dri 20 2\n",
            "a msih lebih kecil dri 20 3\n",
            "a msih lebih kecil dri 20 4\n",
            "a msih lebih kecil dri 20 5\n",
            "a msih lebih kecil dri 20 6\n",
            "a msih lebih kecil dri 20 7\n",
            "a msih lebih kecil dri 20 8\n",
            "a msih lebih kecil dri 20 9\n",
            "a msih lebih kecil dri 20 10\n",
            "a msih lebih kecil dri 20 11\n",
            "a msih lebih kecil dri 20 12\n",
            "a msih lebih kecil dri 20 13\n",
            "a msih lebih kecil dri 20 14\n",
            "a msih lebih kecil dri 20 15\n",
            "a msih lebih kecil dri 20 16\n",
            "a msih lebih kecil dri 20 17\n",
            "a msih lebih kecil dri 20 18\n",
            "a msih lebih kecil dri 20 19\n"
          ]
        }
      ]
    },
    {
      "cell_type": "code",
      "metadata": {
        "colab": {
          "base_uri": "https://localhost:8080/"
        },
        "id": "51ndTWFDxhMf",
        "outputId": "c9e63f82-679c-4863-c62d-00ac740e5281"
      },
      "source": [
        "while True:\n",
        "  umur = int(input())\n",
        "  if umur >= 17:\n",
        "    break"
      ],
      "execution_count": null,
      "outputs": [
        {
          "name": "stdout",
          "output_type": "stream",
          "text": [
            "16\n",
            "15\n",
            "17\n"
          ]
        }
      ]
    },
    {
      "cell_type": "code",
      "metadata": {
        "colab": {
          "base_uri": "https://localhost:8080/"
        },
        "id": "33EGaoQbxpS9",
        "outputId": "b244c263-5854-4c30-f566-bdcf18a702d1"
      },
      "source": [
        "while True:\n",
        "  umur = int(input())\n",
        "  if umur == 17:\n",
        "    continue\n",
        "  elif umur > 17:\n",
        "    break\n",
        "  print(\"Jika dibawah umur 17 aku muncul\")"
      ],
      "execution_count": null,
      "outputs": [
        {
          "name": "stdout",
          "output_type": "stream",
          "text": [
            "16\n",
            "Jika dibawah umur 17 aku muncul\n",
            "12\n",
            "Jika dibawah umur 17 aku muncul\n",
            "17\n",
            "18\n"
          ]
        }
      ]
    },
    {
      "cell_type": "code",
      "metadata": {
        "colab": {
          "base_uri": "https://localhost:8080/"
        },
        "id": "0nvkzj3XyA1J",
        "outputId": "ec75460b-9566-45cd-afd3-25305257affd"
      },
      "source": [
        "#for else\n",
        "for i in range(0,9,2):\n",
        "  print(i)\n",
        "else:\n",
        "  print(\"Aku akan muncul jika break tidak tereksekusi\")"
      ],
      "execution_count": null,
      "outputs": [
        {
          "output_type": "stream",
          "name": "stdout",
          "text": [
            "0\n",
            "2\n",
            "4\n",
            "6\n",
            "8\n",
            "Aku akan muncul jika break tidak tereksekusi\n"
          ]
        }
      ]
    },
    {
      "cell_type": "code",
      "metadata": {
        "colab": {
          "base_uri": "https://localhost:8080/"
        },
        "id": "jwdTnqyQzgSR",
        "outputId": "041af9d7-d271-4818-d9f7-ab466053dff4"
      },
      "source": [
        "for i in contoh_list:\n",
        "  print(i)"
      ],
      "execution_count": null,
      "outputs": [
        {
          "output_type": "stream",
          "name": "stdout",
          "text": [
            "Vincent\n",
            "12\n",
            "12.2\n",
            "['Darwin', 'Dirwan']\n",
            "{}\n",
            "()\n",
            "True\n"
          ]
        }
      ]
    },
    {
      "cell_type": "code",
      "metadata": {
        "colab": {
          "base_uri": "https://localhost:8080/"
        },
        "id": "rIJn8ADbzoS1",
        "outputId": "b4b77e8a-42c1-417d-d4b1-9520a7229098"
      },
      "source": [
        "for i in contoh_dict:\n",
        "  print(i)"
      ],
      "execution_count": null,
      "outputs": [
        {
          "output_type": "stream",
          "name": "stdout",
          "text": [
            "2\n",
            "Dua Belas\n",
            "False\n",
            "3.0\n",
            "Dict\n",
            "333\n",
            "Boolean\n"
          ]
        }
      ]
    },
    {
      "cell_type": "code",
      "metadata": {
        "id": "cI0AgsAoz2q9"
      },
      "source": [
        "list_angka = [9,7,4,1,0,7]"
      ],
      "execution_count": null,
      "outputs": []
    },
    {
      "cell_type": "code",
      "metadata": {
        "colab": {
          "base_uri": "https://localhost:8080/"
        },
        "id": "p0ET2-C5zr2X",
        "outputId": "1fa59bfd-6edc-476c-f12b-e8e5c486e4f3"
      },
      "source": [
        "for i in list_angka:\n",
        "  if i == 0:\n",
        "    print(\"Ada angka 0 di list ini\")"
      ],
      "execution_count": null,
      "outputs": [
        {
          "output_type": "stream",
          "name": "stdout",
          "text": [
            "Ada angka 0 di list ini\n"
          ]
        }
      ]
    },
    {
      "cell_type": "code",
      "metadata": {
        "colab": {
          "base_uri": "https://localhost:8080/"
        },
        "id": "5pE6c6Xu0bpI",
        "outputId": "1e0a5f32-3ab9-4cc2-b94a-b5aa09480065"
      },
      "source": [
        "for nilai in list_angka:\n",
        "  if nilai == 0:\n",
        "    list_angka.remove(nilai)\n",
        "list_angka"
      ],
      "execution_count": null,
      "outputs": [
        {
          "output_type": "execute_result",
          "data": {
            "text/plain": [
              "[9, 7, 4, 1, 7]"
            ]
          },
          "metadata": {},
          "execution_count": 44
        }
      ]
    },
    {
      "cell_type": "code",
      "metadata": {
        "colab": {
          "base_uri": "https://localhost:8080/"
        },
        "id": "k0dB_vVT0i5D",
        "outputId": "745bc3bb-183f-44af-fd88-78c2a2a4a081"
      },
      "source": [
        "for idx, nilai in enumerate(list_angka):\n",
        "# print(\"indeks : {}\" .format(idx))\n",
        "# print(\"nilai : {}\" .format(nilai))\n",
        "  if nilai == 0:\n",
        "    list_angka[idx] = \"Nol\"\n",
        "list_angka"
      ],
      "execution_count": null,
      "outputs": [
        {
          "output_type": "execute_result",
          "data": {
            "text/plain": [
              "[9, 7, 4, 1, 'Nol', 7]"
            ]
          },
          "metadata": {},
          "execution_count": 47
        }
      ]
    },
    {
      "cell_type": "code",
      "metadata": {
        "id": "F7KIJBe30-CW"
      },
      "source": [
        "#Function\n",
        "def nilai_terbesar_dari_dua_nilai(a,b): #nama function\n",
        "  #masukan code kalian disini\n",
        "  if a > b:\n",
        "    return a\n",
        "  else:\n",
        "    return b"
      ],
      "execution_count": null,
      "outputs": []
    },
    {
      "cell_type": "code",
      "metadata": {
        "colab": {
          "base_uri": "https://localhost:8080/"
        },
        "id": "M96Ku98S1WmX",
        "outputId": "0f268e2e-b2f8-435e-809b-9583c20d597f"
      },
      "source": [
        "print(nilai_terbesar_dari_dua_nilai(3,10))"
      ],
      "execution_count": null,
      "outputs": [
        {
          "output_type": "stream",
          "name": "stdout",
          "text": [
            "10\n"
          ]
        }
      ]
    },
    {
      "cell_type": "code",
      "metadata": {
        "id": "iICijqsX1ry9"
      },
      "source": [
        "nilai_terbesar = nilai_terbesar_dari_dua_nilai(3,10)"
      ],
      "execution_count": null,
      "outputs": []
    },
    {
      "cell_type": "code",
      "metadata": {
        "colab": {
          "base_uri": "https://localhost:8080/"
        },
        "id": "tr-G5znO11Lu",
        "outputId": "eb77fc49-dac4-4b25-aaba-3070e1c66921"
      },
      "source": [
        "nilai_terbesar + 20"
      ],
      "execution_count": null,
      "outputs": [
        {
          "output_type": "execute_result",
          "data": {
            "text/plain": [
              "30"
            ]
          },
          "metadata": {},
          "execution_count": 52
        }
      ]
    }
  ]
}