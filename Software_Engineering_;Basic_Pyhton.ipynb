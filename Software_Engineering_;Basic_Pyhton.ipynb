{
  "nbformat": 4,
  "nbformat_minor": 0,
  "metadata": {
    "colab": {
      "name": "Software Engineering ;Basic Pyhton.ipynb",
      "provenance": [],
      "collapsed_sections": []
    },
    "kernelspec": {
      "name": "python3",
      "display_name": "Python 3"
    },
    "language_info": {
      "name": "python"
    }
  },
  "cells": [
    {
      "cell_type": "code",
      "metadata": {
        "id": "bQouIN-qcWX7"
      },
      "source": [
        "# Contoh penggunaan Variabel\n",
        "a = 10 # Integer\n",
        "b = 3.14 # Float\n",
        "c = \"V\" # String\n",
        "d = 'Vincent' # String\n",
        "e = \"Software Engineer\" # String (penggunaan petik 1/ petik 2 sama aja untuk penggunaan string)\n",
        "f = True # Boolean\n",
        "g = [] # Initialize List\n",
        "h = [1,2,3] # List with value \n",
        "i = {} # Dictionary \n",
        "j = () # Tuple"
      ],
      "execution_count": null,
      "outputs": []
    },
    {
      "cell_type": "code",
      "metadata": {
        "id": "0Dy4Jl-En_6v"
      },
      "source": [
        "# Print -- Untuk debugging\n",
        "print(a + b)\n",
        "print(d)\n",
        "print(f)\n",
        "print(h)"
      ],
      "execution_count": null,
      "outputs": []
    },
    {
      "cell_type": "code",
      "metadata": {
        "colab": {
          "base_uri": "https://localhost:8080/"
        },
        "id": "o91VW3M9or5v",
        "outputId": "7264c844-ae37-4957-b2a2-40f4c01b85c1"
      },
      "source": [
        "nama = \"Vincent\"\n",
        "umur = 20\n",
        "asal = 'Aceh'\n",
        "\n",
        "#Concatination\n",
        "print(\"Hai namaku adalah \" + nama) # Sedikit ribet dalam penggunaan kalimat panjang dan memerlukan konveri tipe data\n",
        "print(\"Hai namaku adalah\", nama) #usang, dah lama(?)\n",
        "print(\"Umurku : {}\".format(umur)) #Recommended memakai ini\n",
        "print(\"Saya {}, umur {}, dan tinggal di {} \".format(nama, umur, asal))"
      ],
      "execution_count": null,
      "outputs": [
        {
          "output_type": "stream",
          "name": "stdout",
          "text": [
            "Hai namaku adalah Vincent\n",
            "Hai namaku adalah Vincent\n",
            "Umurku : 20\n",
            "Saya Vincent, umur 20, dan tinggal di Aceh \n"
          ]
        }
      ]
    },
    {
      "cell_type": "code",
      "metadata": {
        "colab": {
          "base_uri": "https://localhost:8080/"
        },
        "id": "S4jPQBG7pLXm",
        "outputId": "7b65c1c0-d4bf-4f31-88f2-6ca7bf036a43"
      },
      "source": [
        "# Input User\n",
        "nama = input()"
      ],
      "execution_count": null,
      "outputs": [
        {
          "name": "stdout",
          "output_type": "stream",
          "text": [
            "Vincent\n"
          ]
        }
      ]
    },
    {
      "cell_type": "code",
      "metadata": {
        "id": "t2CIJFivo0J_"
      },
      "source": [
        "print(\"Aku {}, umur {}, dan tinggal di {} \".format(nama, umur, asal))"
      ],
      "execution_count": null,
      "outputs": []
    },
    {
      "cell_type": "code",
      "metadata": {
        "id": "7vLBPyabpdW0"
      },
      "source": [
        "# Condition - if else\n",
        "a = 10\n",
        "b = 10\n",
        "## Conditional Statement\n",
        "a == b # Jika nilai a sama dengan b\n",
        "a != b # Jika nilai a tidak sama dengan b\n",
        "a < b\n",
        "a <= b\n",
        "a > b\n",
        "a >= b\n",
        "True and True \n",
        "True or False\n",
        "\n",
        "## Operator\n",
        "a + b\n",
        "a - b\n",
        "a * b\n",
        "a / b # Float division\n",
        "a // b # Int division\n",
        "a ** b # Square\n",
        "a % b # Modulo\n",
        "a ** (1/2) # SQRT tanpa built-in\n",
        "Math.sqrt(a) # SQRT dengan import math"
      ],
      "execution_count": null,
      "outputs": []
    },
    {
      "cell_type": "code",
      "metadata": {
        "id": "JrQeSz1XpfoB"
      },
      "source": [
        "if a == 10:\n",
        "  print(\"Nilai a sama dengan 10\")\n",
        "elif a > 10:\n",
        "  print(\"Nilai a lebih besar dari 10\")\n",
        "else:\n",
        "  print(\"Nilai a kurang dari 10\")\n",
        "print(\"Outner of if statement\")"
      ],
      "execution_count": null,
      "outputs": []
    }
  ]
}